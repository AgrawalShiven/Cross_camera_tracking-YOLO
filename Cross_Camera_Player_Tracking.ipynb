{
  "nbformat": 4,
  "nbformat_minor": 0,
  "metadata": {
    "colab": {
      "provenance": [],
      "gpuType": "T4",
      "authorship_tag": "ABX9TyNrZSJrjTP/3rqjrWew1seh",
      "include_colab_link": true
    },
    "kernelspec": {
      "name": "python3",
      "display_name": "Python 3"
    },
    "language_info": {
      "name": "python"
    },
    "accelerator": "GPU"
  },
  "cells": [
    {
      "cell_type": "markdown",
      "metadata": {
        "id": "view-in-github",
        "colab_type": "text"
      },
      "source": [
        "<a href=\"https://colab.research.google.com/github/AgrawalShiven/Cross_camera_tracking-YOLO/blob/main/Cross_Camera_Player_Tracking.ipynb\" target=\"_parent\"><img src=\"https://colab.research.google.com/assets/colab-badge.svg\" alt=\"Open In Colab\"/></a>"
      ]
    },
    {
      "cell_type": "code",
      "source": [
        "!pip install ultralytics"
      ],
      "metadata": {
        "colab": {
          "base_uri": "https://localhost:8080/"
        },
        "id": "H1LhTkbJmfbm",
        "outputId": "199ea14d-7ac4-4b71-9474-39f3dc96c31f"
      },
      "execution_count": 1,
      "outputs": [
        {
          "output_type": "stream",
          "name": "stdout",
          "text": [
            "  Attempting uninstall: nvidia-cuda-runtime-cu12\n",
            "    Found existing installation: nvidia-cuda-runtime-cu12 12.5.82\n",
            "    Uninstalling nvidia-cuda-runtime-cu12-12.5.82:\n",
            "      Successfully uninstalled nvidia-cuda-runtime-cu12-12.5.82\n",
            "  Attempting uninstall: nvidia-cuda-nvrtc-cu12\n",
            "    Found existing installation: nvidia-cuda-nvrtc-cu12 12.5.82\n",
            "    Uninstalling nvidia-cuda-nvrtc-cu12-12.5.82:\n",
            "      Successfully uninstalled nvidia-cuda-nvrtc-cu12-12.5.82\n",
            "  Attempting uninstall: nvidia-cuda-cupti-cu12\n",
            "    Found existing installation: nvidia-cuda-cupti-cu12 12.5.82\n",
            "    Uninstalling nvidia-cuda-cupti-cu12-12.5.82:\n",
            "      Successfully uninstalled nvidia-cuda-cupti-cu12-12.5.82\n",
            "  Attempting uninstall: nvidia-cublas-cu12\n",
            "    Found existing installation: nvidia-cublas-cu12 12.5.3.2\n",
            "    Uninstalling nvidia-cublas-cu12-12.5.3.2:\n",
            "      Successfully uninstalled nvidia-cublas-cu12-12.5.3.2\n",
            "  Attempting uninstall: nvidia-cusparse-cu12\n",
            "    Found existing installation: nvidia-cusparse-cu12 12.5.1.3\n",
            "    Uninstalling nvidia-cusparse-cu12-12.5.1.3:\n",
            "      Successfully uninstalled nvidia-cusparse-cu12-12.5.1.3\n",
            "  Attempting uninstall: nvidia-cudnn-cu12\n",
            "    Found existing installation: nvidia-cudnn-cu12 9.3.0.75\n",
            "    Uninstalling nvidia-cudnn-cu12-9.3.0.75:\n",
            "      Successfully uninstalled nvidia-cudnn-cu12-9.3.0.75\n",
            "  Attempting uninstall: nvidia-cusolver-cu12\n",
            "    Found existing installation: nvidia-cusolver-cu12 11.6.3.83\n",
            "    Uninstalling nvidia-cusolver-cu12-11.6.3.83:\n",
            "      Successfully uninstalled nvidia-cusolver-cu12-11.6.3.83\n",
            "Successfully installed nvidia-cublas-cu12-12.4.5.8 nvidia-cuda-cupti-cu12-12.4.127 nvidia-cuda-nvrtc-cu12-12.4.127 nvidia-cuda-runtime-cu12-12.4.127 nvidia-cudnn-cu12-9.1.0.70 nvidia-cufft-cu12-11.2.1.3 nvidia-curand-cu12-10.3.5.147 nvidia-cusolver-cu12-11.6.1.9 nvidia-cusparse-cu12-12.3.1.170 nvidia-nvjitlink-cu12-12.4.127 ultralytics-8.3.163 ultralytics-thop-2.0.14\n"
          ]
        }
      ]
    },
    {
      "cell_type": "code",
      "execution_count": 2,
      "metadata": {
        "colab": {
          "base_uri": "https://localhost:8080/"
        },
        "id": "9ssZ9dWxReIu",
        "outputId": "da3e31be-d029-4181-924d-85ad7e23fbba"
      },
      "outputs": [
        {
          "output_type": "stream",
          "name": "stdout",
          "text": [
            "Creating new Ultralytics Settings v0.0.6 file ✅ \n",
            "View Ultralytics Settings with 'yolo settings' or at '/root/.config/Ultralytics/settings.json'\n",
            "Update Settings with 'yolo settings key=value', i.e. 'yolo settings runs_dir=path/to/dir'. For help see https://docs.ultralytics.com/quickstart/#ultralytics-settings.\n"
          ]
        }
      ],
      "source": [
        "from ultralytics import YOLO\n",
        "import cv2\n",
        "import numpy as np\n",
        "from skimage.feature import hog\n",
        "\n",
        "model = YOLO('best.pt')\n",
        "model.to('cuda')\n",
        "video_1 = 'broadcast.mp4'\n",
        "video_2 = 'tacticam.mp4'\n",
        "\n",
        "from skimage.feature import hog\n",
        "import cv2\n",
        "import numpy as np\n",
        "\n",
        "def extract_hist_hog(frame, bbox):\n",
        "    x1, y1, x2, y2 = map(int, bbox)\n",
        "    player_crop = frame[y1:y2, x1:x2]\n",
        "\n",
        "    if player_crop.size == 0 or x2 <= x1 or y2 <= y1:\n",
        "        return np.zeros(512 + 3780)\n",
        "    resized_crop = cv2.resize(player_crop, (64, 128))\n",
        "\n",
        "    hist = cv2.calcHist([resized_crop], [0, 1, 2], None, [8, 8, 8], [0, 256, 0, 256, 0, 256])\n",
        "    hist = cv2.normalize(hist, hist).flatten()\n",
        "\n",
        "    gray_crop = cv2.cvtColor(resized_crop, cv2.COLOR_BGR2GRAY)\n",
        "    hog_feat = hog(\n",
        "        gray_crop,\n",
        "        orientations=9,\n",
        "        pixels_per_cell=(8, 8),\n",
        "        cells_per_block=(2, 2),\n",
        "        block_norm='L2-Hys',\n",
        "        transform_sqrt=True,\n",
        "        feature_vector=True\n",
        "    )\n",
        "\n",
        "    combined_feat = np.concatenate([hist, hog_feat])\n",
        "    return combined_feat\n"
      ]
    },
    {
      "cell_type": "code",
      "source": [
        "def run_tracking(video_path, model, tracker_type='botsort.yaml', show_video=False, save_video=True, output_name='output_with_ids.mp4'):\n",
        "    results = model.track(\n",
        "        source=video_path,\n",
        "        tracker=tracker_type,\n",
        "        persist=True,\n",
        "        verbose=False,\n",
        "        stream=True\n",
        "    )\n",
        "\n",
        "    track_data = []\n",
        "    cap = cv2.VideoCapture(video_path)\n",
        "    frame_id = 0\n",
        "\n",
        "    if save_video:\n",
        "        fourcc = cv2.VideoWriter_fourcc(*'mp4v')\n",
        "        out = cv2.VideoWriter(\n",
        "            output_name, fourcc,\n",
        "            cap.get(cv2.CAP_PROP_FPS),\n",
        "            (int(cap.get(cv2.CAP_PROP_FRAME_WIDTH)), int(cap.get(cv2.CAP_PROP_FRAME_HEIGHT)))\n",
        "        )\n",
        "\n",
        "    for result in results:\n",
        "        ret, frame = cap.read()\n",
        "        if not ret:\n",
        "            break\n",
        "        frame_track = []\n",
        "        for box in result.boxes:\n",
        "            if int(box.cls[0]) == 2:  # Use 2 for 'player' class\n",
        "                if box.id is None:\n",
        "                    continue\n",
        "                track_id = int(box.id[0])\n",
        "                bbox = list(map(int, box.xyxy[0]))\n",
        "                feature = extract_hist_hog(frame, bbox)\n",
        "                frame_track.append({\n",
        "                    'track_id': track_id,\n",
        "                    'bbox': bbox,\n",
        "                    'hist': feature,\n",
        "                    'frame_id': frame_id\n",
        "                })\n",
        "\n",
        "                # Draw bounding box and ID\n",
        "                x1, y1, x2, y2 = bbox\n",
        "                cv2.rectangle(frame, (x1, y1), (x2, y2), (0, 255, 0), 2)\n",
        "                cv2.putText(frame, f'ID: {track_id}', (x1, y1-10),\n",
        "                            cv2.FONT_HERSHEY_SIMPLEX, 0.6, (0, 255, 0), 2)\n",
        "\n",
        "        if show_video:\n",
        "            from google.colab.patches import cv2_imshow\n",
        "            cv2_imshow(frame)\n",
        "\n",
        "        if save_video:\n",
        "            out.write(frame)\n",
        "\n",
        "        track_data.append(frame_track)\n",
        "        frame_id += 1\n",
        "\n",
        "    cap.release()\n",
        "    if save_video:\n",
        "        out.release()\n",
        "    return track_data\n"
      ],
      "metadata": {
        "id": "RHhwN9r8bphj"
      },
      "execution_count": 3,
      "outputs": []
    },
    {
      "cell_type": "code",
      "source": [
        "def build_track_features(track_data):\n",
        "    track_features = {}\n",
        "    for frame_tracks in track_data:\n",
        "        for obj in frame_tracks:\n",
        "            tid = obj['track_id']\n",
        "            if tid not in track_features:\n",
        "                track_features[tid] = []\n",
        "            track_features[tid].append(obj['hist'])\n",
        "    for tid in track_features:\n",
        "        track_features[tid] = np.mean(track_features[tid], axis=0)\n",
        "    return track_features\n"
      ],
      "metadata": {
        "id": "3dcMhlPvh0sq"
      },
      "execution_count": 4,
      "outputs": []
    },
    {
      "cell_type": "code",
      "source": [
        "def match_tracks(features1, features2, threshold=0.7):\n",
        "    mapping = {}\n",
        "    for tid2, feat2 in features2.items():\n",
        "        best_tid1 = None\n",
        "        best_score = -1\n",
        "        for tid1, feat1 in features1.items():\n",
        "            score = np.dot(feat1, feat2) / (np.linalg.norm(feat1) * np.linalg.norm(feat2) + 1e-6)\n",
        "            if score > best_score:\n",
        "                best_score = score\n",
        "                best_tid1 = tid1\n",
        "        if best_score > threshold:\n",
        "            mapping[tid2] = best_tid1\n",
        "    return mapping\n"
      ],
      "metadata": {
        "id": "QIeTkIlriFRW"
      },
      "execution_count": 5,
      "outputs": []
    },
    {
      "cell_type": "code",
      "source": [
        "if __name__ == '__main__':\n",
        "    model = YOLO('best.pt')\n",
        "\n",
        "    print(\"Tracking broadcast video...\")\n",
        "    broadcast_tracks = run_tracking(\n",
        "        'broadcast.mp4',\n",
        "        model,\n",
        "        tracker_type='botsort.yaml',\n",
        "        output_name='broadcast_with_ids.mp4'\n",
        "    )\n",
        "\n",
        "    print(\"Tracking tacticam video...\")\n",
        "    tacticam_tracks = run_tracking(\n",
        "        'tacticam.mp4',\n",
        "        model,\n",
        "        tracker_type='botsort.yaml',\n",
        "        output_name='tacticam_with_ids.mp4'\n",
        "    )\n",
        "\n",
        "    broadcast_features = build_track_features(broadcast_tracks)\n",
        "    tacticam_features = build_track_features(tacticam_tracks)\n",
        "\n",
        "    print(\"Matching players across feeds...\")\n",
        "    player_id_mapping = match_tracks(broadcast_features, tacticam_features, threshold=0.7)\n",
        "\n",
        "    print(\"Player ID mapping from tacticam to broadcast:\")\n",
        "    for tacticam_id, broadcast_id in player_id_mapping.items():\n",
        "        print(f\"Tacticam player {tacticam_id} -> Broadcast player {broadcast_id}\")\n"
      ],
      "metadata": {
        "colab": {
          "base_uri": "https://localhost:8080/"
        },
        "id": "wGB9zGqoiNoy",
        "outputId": "da46be86-3cf1-4d4d-d152-4c2d37e30b46"
      },
      "execution_count": 10,
      "outputs": [
        {
          "output_type": "stream",
          "name": "stdout",
          "text": [
            "Tracking broadcast video...\n",
            "Tracking tacticam video...\n",
            "Matching players across feeds...\n",
            "Player ID mapping from tacticam to broadcast:\n",
            "Tacticam player 180 -> Broadcast player 22\n",
            "Tacticam player 181 -> Broadcast player 24\n",
            "Tacticam player 182 -> Broadcast player 25\n",
            "Tacticam player 183 -> Broadcast player 25\n",
            "Tacticam player 184 -> Broadcast player 15\n",
            "Tacticam player 185 -> Broadcast player 25\n",
            "Tacticam player 186 -> Broadcast player 20\n",
            "Tacticam player 187 -> Broadcast player 18\n",
            "Tacticam player 188 -> Broadcast player 18\n",
            "Tacticam player 189 -> Broadcast player 16\n",
            "Tacticam player 190 -> Broadcast player 18\n",
            "Tacticam player 191 -> Broadcast player 25\n",
            "Tacticam player 192 -> Broadcast player 18\n",
            "Tacticam player 193 -> Broadcast player 18\n",
            "Tacticam player 194 -> Broadcast player 24\n",
            "Tacticam player 195 -> Broadcast player 25\n",
            "Tacticam player 196 -> Broadcast player 17\n",
            "Tacticam player 197 -> Broadcast player 18\n",
            "Tacticam player 198 -> Broadcast player 21\n",
            "Tacticam player 199 -> Broadcast player 20\n",
            "Tacticam player 200 -> Broadcast player 24\n",
            "Tacticam player 202 -> Broadcast player 17\n",
            "Tacticam player 237 -> Broadcast player 22\n",
            "Tacticam player 259 -> Broadcast player 19\n",
            "Tacticam player 260 -> Broadcast player 22\n",
            "Tacticam player 262 -> Broadcast player 18\n",
            "Tacticam player 266 -> Broadcast player 19\n",
            "Tacticam player 275 -> Broadcast player 19\n",
            "Tacticam player 276 -> Broadcast player 19\n",
            "Tacticam player 286 -> Broadcast player 17\n"
          ]
        }
      ]
    }
  ]
}